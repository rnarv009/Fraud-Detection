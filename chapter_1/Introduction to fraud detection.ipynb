{
 "cells": [
  {
   "cell_type": "markdown",
   "metadata": {},
   "source": [
    "# Checking the fraud to non-fraud ratio"
   ]
  },
  {
   "cell_type": "code",
   "execution_count": 1,
   "metadata": {},
   "outputs": [],
   "source": [
    "# Import pandas and read csv\n",
    "import pandas as pd\n",
    "df = pd.read_csv(\"creditcard_sampledata_3.csv\")"
   ]
  },
  {
   "cell_type": "code",
   "execution_count": 2,
   "metadata": {},
   "outputs": [
    {
     "name": "stdout",
     "output_type": "stream",
     "text": [
      "<class 'pandas.core.frame.DataFrame'>\n",
      "RangeIndex: 5050 entries, 0 to 5049\n",
      "Data columns (total 31 columns):\n",
      "Unnamed: 0    5050 non-null int64\n",
      "V1            5050 non-null float64\n",
      "V2            5050 non-null float64\n",
      "V3            5050 non-null float64\n",
      "V4            5050 non-null float64\n",
      "V5            5050 non-null float64\n",
      "V6            5050 non-null float64\n",
      "V7            5050 non-null float64\n",
      "V8            5050 non-null float64\n",
      "V9            5050 non-null float64\n",
      "V10           5050 non-null float64\n",
      "V11           5050 non-null float64\n",
      "V12           5050 non-null float64\n",
      "V13           5050 non-null float64\n",
      "V14           5050 non-null float64\n",
      "V15           5050 non-null float64\n",
      "V16           5050 non-null float64\n",
      "V17           5050 non-null float64\n",
      "V18           5050 non-null float64\n",
      "V19           5050 non-null float64\n",
      "V20           5050 non-null float64\n",
      "V21           5050 non-null float64\n",
      "V22           5050 non-null float64\n",
      "V23           5050 non-null float64\n",
      "V24           5050 non-null float64\n",
      "V25           5050 non-null float64\n",
      "V26           5050 non-null float64\n",
      "V27           5050 non-null float64\n",
      "V28           5050 non-null float64\n",
      "Amount        5050 non-null float64\n",
      "Class         5050 non-null int64\n",
      "dtypes: float64(29), int64(2)\n",
      "memory usage: 1.2 MB\n",
      "None\n"
     ]
    }
   ],
   "source": [
    "# Explore the features available in your dataframe\n",
    "print(df.info())"
   ]
  },
  {
   "cell_type": "code",
   "execution_count": 3,
   "metadata": {},
   "outputs": [
    {
     "name": "stdout",
     "output_type": "stream",
     "text": [
      "0    5000\n",
      "1      50\n",
      "Name: Class, dtype: int64\n"
     ]
    }
   ],
   "source": [
    "# Count the occurrences of fraud and no fraud and print them\n",
    "occ = df['Class'].value_counts()\n",
    "print(occ)"
   ]
  },
  {
   "cell_type": "code",
   "execution_count": 4,
   "metadata": {},
   "outputs": [
    {
     "name": "stdout",
     "output_type": "stream",
     "text": [
      "0    0.990099\n",
      "1    0.009901\n",
      "Name: Class, dtype: float64\n"
     ]
    }
   ],
   "source": [
    "# Print the ratio of fraud cases\n",
    "print(occ / df.shape[0])"
   ]
  },
  {
   "cell_type": "markdown",
   "metadata": {},
   "source": [
    "# Plotting your data"
   ]
  },
  {
   "cell_type": "code",
   "execution_count": 5,
   "metadata": {},
   "outputs": [
    {
     "data": {
      "text/plain": [
       "Index(['Unnamed: 0', 'V1', 'V2', 'V3', 'V4', 'V5', 'V6', 'V7', 'V8', 'V9',\n",
       "       'V10', 'V11', 'V12', 'V13', 'V14', 'V15', 'V16', 'V17', 'V18', 'V19',\n",
       "       'V20', 'V21', 'V22', 'V23', 'V24', 'V25', 'V26', 'V27', 'V28', 'Amount',\n",
       "       'Class'],\n",
       "      dtype='object')"
      ]
     },
     "execution_count": 5,
     "metadata": {},
     "output_type": "execute_result"
    }
   ],
   "source": [
    "# Define a function to create a scatter plot of our data and labels\n",
    "from matplotlib import pyplot as plt\n",
    "def plot_data(X, y):\n",
    "    plt.scatter(X[y == 0, 0], X[y == 0, 1], label=\"Class #0\", alpha=0.5, linewidth=0.15)\n",
    "    plt.scatter(X[y == 1, 0], X[y == 1, 1], label=\"Class #1\", alpha=0.5, linewidth=0.15, c='r')\n",
    "    plt.legend()\n",
    "    return plt.show()\n",
    "df.columns"
   ]
  },
  {
   "cell_type": "code",
   "execution_count": 6,
   "metadata": {},
   "outputs": [
    {
     "name": "stdout",
     "output_type": "stream",
     "text": [
      "<class 'numpy.ndarray'> <class 'numpy.ndarray'>\n"
     ]
    }
   ],
   "source": [
    "# Create X and y from the prep_data function \n",
    "\n",
    "def prep_data(df):\n",
    "    y=df.Class.values\n",
    "    X=df.drop(['Unnamed: 0','Amount','Class'],axis=1).values\n",
    "    return X,y\n",
    "X, y = prep_data(df)\n",
    "print(type(X),type(y))"
   ]
  },
  {
   "cell_type": "code",
   "execution_count": 7,
   "metadata": {},
   "outputs": [
    {
     "data": {
      "image/png": "[encoded data removed]",
      "text/plain": [
       "<Figure size 432x288 with 1 Axes>"
      ]
     },
     "metadata": {
      "needs_background": "light"
     },
     "output_type": "display_data"
    }
   ],
   "source": [
    "# Plot our data by running our plot data function on X and y\n",
    "plot_data(X, y)"
   ]
  },
  {
   "cell_type": "code",
   "execution_count": 8,
   "metadata": {},
   "outputs": [
    {
     "name": "stdout",
     "output_type": "stream",
     "text": [
      "(5050, 28) (5050,)\n"
     ]
    }
   ],
   "source": [
    "print(X.shape,y.shape)"
   ]
  },
  {
   "cell_type": "code",
   "execution_count": null,
   "metadata": {},
   "outputs": [],
   "source": []
  }
 ],
 "metadata": {
  "kernelspec": {
   "display_name": "Python 3",
   "language": "python",
   "name": "python3"
  },
  "language_info": {
   "codemirror_mode": {
    "name": "ipython",
    "version": 3
   },
   "file_extension": ".py",
   "mimetype": "text/x-python",
   "name": "python",
   "nbconvert_exporter": "python",
   "pygments_lexer": "ipython3",
   "version": "3.5.6"
  }
 },
 "nbformat": 4,
 "nbformat_minor": 2
}
